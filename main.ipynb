{
 "cells": [
  {
   "cell_type": "code",
   "execution_count": 6,
   "metadata": {},
   "outputs": [],
   "source": [
    "import tkinter as tk #for gui\n",
    "import nltk\n",
    "from textblob import TextBlob #for sentimental analysis for if the text is positive or negative\n",
    "from newspaper import Article "
   ]
  },
  {
   "cell_type": "code",
   "execution_count": 7,
   "metadata": {},
   "outputs": [
    {
     "name": "stderr",
     "output_type": "stream",
     "text": [
      "[nltk_data] Downloading package punkt to\n",
      "[nltk_data]     C:\\Users\\ilyas\\AppData\\Roaming\\nltk_data...\n",
      "[nltk_data]   Package punkt is already up-to-date!\n"
     ]
    },
    {
     "name": "stdout",
     "output_type": "stream",
     "text": [
      "Title: TikTok will partner with Oracle in the United States after Microsoft loses bid\n",
      "Authors: ['Brian Fung Selina Wang', 'Brian Fung', 'Selina Wang']\n",
      "Publication date: 2020-09-13 00:00:00\n",
      "Summary: The news comes after weeks of speculation about the Chinese app’s future in the United States.\n",
      "President Donald Trump has demanded the app be sold, or else shut down in the United States.\n",
      "The agreement with Oracle comes days before a ban on TikTok in the United States was scheduled to go into effect.\n",
      "Tensions between the United States and China are continuing to rise ahead of the US election in November.\n",
      "“We’re in a different territory where national security issues, particularly with personal information, have risen to the fore,” Broadman said.\n"
     ]
    }
   ],
   "source": [
    "#lang. proc. \n",
    "#NOTE: the 2 sentences below only have to be called once\n",
    "nltk.download('punkt') #a model that we're going to need\n",
    "url = 'https://edition.cnn.com/2020/09/13/tech/microsoft-tiktok-bytedance/index.html'\n",
    "\n",
    "article = Article(url) #instead of langueage processing we focus on the url\n",
    "\n",
    "article.download()\n",
    "article.parse() #it get's the parts that are needed\n",
    "\n",
    "article.nlp() #nat lang proc.\n",
    "#NOTE: this is a very basic version of natural language proccessing, it's not the advanced version.\n",
    "\n",
    "print(f'Title: {article.title}') #After research the \"f\" stands for a better format of the string format that's better for readability etc.\n",
    "print(f'Authors: {article.authors}')\n",
    "print(f'Publication date: {article.publish_date}')\n",
    "print(f'Summary: {article.summary}')\n",
    "#the libraries do everything for us we don't have to process the data ourselves."
   ]
  },
  {
   "cell_type": "code",
   "execution_count": 8,
   "metadata": {},
   "outputs": [
    {
     "name": "stdout",
     "output_type": "stream",
     "text": [
      "0.07853946334958993\n",
      "sentiment: posiitve\n"
     ]
    }
   ],
   "source": [
    "#sentimental analysis\n",
    "analysis = TextBlob(article.text)#analyzing the whole text\n",
    "print(analysis.polarity)\n",
    "print(f'sentiment: {\"posiitve\" if analysis.polarity > 0 else \"negative\" if analysis.polarity<0 else \"neutral\"}')\n",
    "\n"
   ]
  },
  {
   "cell_type": "code",
   "execution_count": 13,
   "metadata": {},
   "outputs": [],
   "source": [
    "#gui\n",
    "root = tk.Tk()\n",
    "root.title(\"News Summerizer\")\n",
    "root.geometry('1200x600')#the window height and length\n",
    "\n",
    "tlabel = tk.Label(root, text=\"Title\") #adding title to the root\n",
    "tlabel.pack()\n",
    "\n",
    "title = tk.Text(root, height = 1, width=140)\n",
    "title.config(state='disabled', bg= '#dddddd')#so that the user cant change anything else, bg stands for background\n",
    "title.pack()\n",
    "\n",
    "alabel = tk.Label(root, text=\"Author\") #adding title to the root\n",
    "alabel.pack()\n",
    "\n",
    "author = tk.Text(root, height = 1, width=140)\n",
    "author.config(state='disabled', bg= '#dddddd')#so that the user cant change anything else, bg stands for background\n",
    "author.pack()\n",
    "\n",
    "plabel = tk.Label(root, text=\"Publication Date\") #adding title to the root\n",
    "plabel.pack()\n",
    "\n",
    "publication = tk.Text(root, height = 1, width=140)\n",
    "publication.config(state='disabled', bg= '#dddddd')#so that the user cant change anything else, bg stands for background\n",
    "publication.pack()\n",
    "\n",
    "slabel = tk.Label(root, text=\"Summary\") #adding title to the root\n",
    "slabel.pack()\n",
    "\n",
    "summary = tk.Text(root, height = 20, width=140)\n",
    "summary.config(state='disabled', bg= '#dddddd')#so that the user cant change anything else, bg stands for background\n",
    "summary.pack()\n",
    "\n",
    "selabel = tk.Label(root, text=\"Sentimental Analysis\") #adding title to the root\n",
    "selabel.pack()\n",
    "\n",
    "sentiment = tk.Text(root, height = 1, width=140)\n",
    "sentiment.config(state='disabled', bg= '#dddddd')#so that the user cant change anything else, bg stands for background\n",
    "sentiment.pack()\n",
    "\n",
    "\n",
    "ulabel = tk.Label(root, text=\"URL\") #adding title to the root\n",
    "ulabel.pack()\n",
    "\n",
    "utext = tk.Text(root, height = 1, width=140)\n",
    "utext.pack()\n",
    "\n",
    "btn = tk.Button(root, text=\"Summerize\", command= summerize)\n",
    "btn.pack()\n",
    "\n",
    "\n",
    "root.mainloop()"
   ]
  },
  {
   "cell_type": "code",
   "execution_count": 12,
   "metadata": {},
   "outputs": [],
   "source": [
    "def summerize():\n",
    "\n",
    "    url = utext.get('1.0', \"end\").strip()\n",
    "    article = Article(url) #instead of langueage processing we focus on the url\n",
    "\n",
    "    article.download()\n",
    "    article.parse() #it get's the parts that are needed\n",
    "\n",
    "    article.nlp() #nat lang proc.\n",
    "    #NOTE: this is a very basic version of natural language proccessing, it's not the advanced version.\n",
    "\n",
    "    title.config(state='normal')#able to edit the textboxes\n",
    "    author.config(state='normal')\n",
    "    publication.config(state='normal')\n",
    "    summary.config(state='normal')\n",
    "    sentiment.config(state='normal')\n",
    "    \n",
    "    title.delete('1.0', 'end')\n",
    "    title.insert('1.0', article.title)\n",
    "\n",
    "    author.delete('1.0', 'end')\n",
    "    author.insert('1.0', article.authors)\n",
    "     \n",
    "    publication.delete('1.0', 'end')\n",
    "    publication.insert('1.0', article.publish_date)\n",
    "\n",
    "    summary.delete('1.0', 'end')\n",
    "    summary.insert('1.0', article.summary)\n",
    "\n",
    "    analysis = TextBlob(article.text)#analyzing the whole text\n",
    "    sentiment.delete('1.0', 'end')\n",
    "    sentiment.insert('1.0', f'Polarity: {analysis.polarity}, sentiment: {\"positive\" if analysis.polarity > 0 else \"negative\" if analysis.polarity < 0 else \"neutral\"}')\n",
    "\n",
    "    title.config(state='disabled')\n",
    "    author.config(state='disabled')\n",
    "    publication.config(state='disabled')\n",
    "    summary.config(state='disabled')\n",
    "    sentiment.config(state='disabled')\n",
    "  \n",
    "  \n"
   ]
  }
 ],
 "metadata": {
  "kernelspec": {
   "display_name": "Python 3",
   "language": "python",
   "name": "python3"
  },
  "language_info": {
   "codemirror_mode": {
    "name": "ipython",
    "version": 3
   },
   "file_extension": ".py",
   "mimetype": "text/x-python",
   "name": "python",
   "nbconvert_exporter": "python",
   "pygments_lexer": "ipython3",
   "version": "3.10.9"
  },
  "orig_nbformat": 4
 },
 "nbformat": 4,
 "nbformat_minor": 2
}
