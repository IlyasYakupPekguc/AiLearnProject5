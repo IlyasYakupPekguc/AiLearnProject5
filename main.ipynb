{
 "cells": [
  {
   "cell_type": "code",
   "execution_count": null,
   "metadata": {},
   "outputs": [],
   "source": [
    "import tkinter as tk #for gui\n",
    "import nltk\n",
    "from textblob import TextBlob #for sentimental analysis for if the text is positife or negative\n",
    "from newspaper import article "
   ]
  }
 ],
 "metadata": {
  "language_info": {
   "name": "python"
  },
  "orig_nbformat": 4
 },
 "nbformat": 4,
 "nbformat_minor": 2
}
