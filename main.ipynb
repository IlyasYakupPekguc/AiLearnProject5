{
 "cells": [
  {
   "cell_type": "code",
   "execution_count": 1,
   "metadata": {},
   "outputs": [],
   "source": [
    "import tkinter as tk #for gui\n",
    "import nltk\n",
    "from textblob import TextBlob #for sentimental analysis for if the text is positife or negative\n",
    "from newspaper import Article "
   ]
  },
  {
   "cell_type": "code",
   "execution_count": 2,
   "metadata": {},
   "outputs": [
    {
     "name": "stderr",
     "output_type": "stream",
     "text": [
      "[nltk_data] Downloading package punkt to\n",
      "[nltk_data]     C:\\Users\\ilyas\\AppData\\Roaming\\nltk_data...\n",
      "[nltk_data]   Package punkt is already up-to-date!\n"
     ]
    },
    {
     "name": "stdout",
     "output_type": "stream",
     "text": [
      "Title: TikTok will partner with Oracle in the United States after Microsoft loses bid\n",
      "Authors: ['Brian Fung Selina Wang', 'Brian Fung', 'Selina Wang']\n",
      "Publication date: 2020-09-13 00:00:00\n",
      "Summary: The news comes after weeks of speculation about the Chinese app’s future in the United States.\n",
      "President Donald Trump has demanded the app be sold, or else shut down in the United States.\n",
      "The agreement with Oracle comes days before a ban on TikTok in the United States was scheduled to go into effect.\n",
      "Tensions between the United States and China are continuing to rise ahead of the US election in November.\n",
      "“We’re in a different territory where national security issues, particularly with personal information, have risen to the fore,” Broadman said.\n"
     ]
    }
   ],
   "source": [
    "nltk.download('punkt') #a model that we're going to need\n",
    "url = 'https://edition.cnn.com/2020/09/13/tech/microsoft-tiktok-bytedance/index.html'\n",
    "\n",
    "article = Article(url) #instead of langueage processing we focus on the url\n",
    "\n",
    "article.download()\n",
    "article.parse() #it get's the parts that are needed\n",
    "\n",
    "article.nlp() #nat lang proc.\n",
    "#NOTE: this is a very basic version of natural language proccessing, it's not the advanced version.\n",
    "\n",
    "print(f'Title: {article.title}') #After research the \"f\" stands for a better format of the string format that's better for readability etc.\n",
    "print(f'Authors: {article.authors}')\n",
    "print(f'Publication date: {article.publish_date}')\n",
    "print(f'Summary: {article.summary}')\n",
    "#the libraries do everything for us we don't have to process the data ourselves."
   ]
  }
 ],
 "metadata": {
  "kernelspec": {
   "display_name": "Python 3",
   "language": "python",
   "name": "python3"
  },
  "language_info": {
   "codemirror_mode": {
    "name": "ipython",
    "version": 3
   },
   "file_extension": ".py",
   "mimetype": "text/x-python",
   "name": "python",
   "nbconvert_exporter": "python",
   "pygments_lexer": "ipython3",
   "version": "3.10.9"
  },
  "orig_nbformat": 4
 },
 "nbformat": 4,
 "nbformat_minor": 2
}
